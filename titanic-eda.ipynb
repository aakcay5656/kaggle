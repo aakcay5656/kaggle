{
 "cells": [
  {
   "cell_type": "markdown",
   "id": "3a1a27c0",
   "metadata": {
    "papermill": {
     "duration": 0.050624,
     "end_time": "2022-09-13T20:24:33.016890",
     "exception": false,
     "start_time": "2022-09-13T20:24:32.966266",
     "status": "completed"
    },
    "tags": []
   },
   "source": [
    "# İNTRODUCTİON \n",
    "#### The sinking of the ocean liner RMS Titanic on April 15, 1912 was one of the most dramatic events of the twentieth century. In a mere four hours after striking an iceberg, the largest passenger ship yet built sank while on its maiden voyage, claiming the lives of over 1,500 persons.\n",
    "\n",
    "\n",
    "\n",
    "<font color='blue'/>\n",
    "\n",
    "Content:\n",
    "    \n",
    "1. [Load and Check Data](#1)    \n",
    "1. [Variable Description](#2)\n",
    " *  [Univariate Description ](#3)\n",
    "    *         [Categorical Description ](#4)\n",
    "    *         [Numerical Description ](#5)\n",
    "\n",
    "1. [Basic Data Analysis](#6)\n",
    "1. [Outlier Detection](#7)\n",
    "1. [Missing Value](#8)\n",
    "  *   [Find Missing Value](#9)\n",
    "   *  [Fill Missing Value](#10)\n",
    "1. [Visualization](#11)   \n",
    "    * [Correlation Between SibSp-Parch-Fare-Age-Survived](#12)\n",
    "    * [SibSp - Survived](#13)\n",
    "    * [Parch - Survived](#14)\n",
    "    * [Pclass - Survived](#15)\n",
    "    * [Age - Survived](#16)\n",
    "    * [Pclass - Survived - Age](#17)\n",
    "    * [Embarked - Sex - Pclass - Survived](#18)\n",
    "    * [Embarked - Sex - Fare - Survived](#19)\n",
    "    * [Fill Missing Value : Age Feature](#20)\n",
    "    \n",
    "\n",
    "    \n",
    "    \n",
    "    \n",
    "   \n",
    "    \n",
    "\n",
    "    "
   ]
  },
  {
   "cell_type": "code",
   "execution_count": 1,
   "id": "39e9e5a5",
   "metadata": {
    "execution": {
     "iopub.execute_input": "2022-09-13T20:24:33.117320Z",
     "iopub.status.busy": "2022-09-13T20:24:33.115489Z",
     "iopub.status.idle": "2022-09-13T20:24:34.144896Z",
     "shell.execute_reply": "2022-09-13T20:24:34.145900Z",
     "shell.execute_reply.started": "2022-09-13T20:23:29.396699Z"
    },
    "papermill": {
     "duration": 1.082106,
     "end_time": "2022-09-13T20:24:34.146326",
     "exception": false,
     "start_time": "2022-09-13T20:24:33.064220",
     "status": "completed"
    },
    "tags": []
   },
   "outputs": [
    {
     "name": "stdout",
     "output_type": "stream",
     "text": [
      "/kaggle/input/titanic/train.csv\n",
      "/kaggle/input/titanic/test.csv\n",
      "/kaggle/input/titanic/gender_submission.csv\n"
     ]
    }
   ],
   "source": [
    "# This Python 3 environment comes with many helpful analytics libraries installed\n",
    "# It is defined by the kaggle/python Docker image: https://github.com/kaggle/docker-python\n",
    "# For example, here's several helpful packages to load\n",
    "\n",
    "import numpy as np # linear algebra\n",
    "import pandas as pd # data processing, CSV file I/O (e.g. pd.read_csv)\n",
    "\n",
    "import matplotlib.pyplot as plt\n",
    "plt.style.use('seaborn-whitegrid')\n",
    "\n",
    "import seaborn as sns\n",
    "\n",
    "import warnings\n",
    "warnings.filterwarnings('ignore') \n",
    "\n",
    "from collections import Counter\n",
    "\n",
    "\n",
    "# Input data files are available in the read-only \"../input/\" directory\n",
    "# For example, running this (by clicking run or pressing Shift+Enter) will list all files under the input directory\n",
    "\n",
    "import os\n",
    "for dirname, _, filenames in os.walk('/kaggle/input'):\n",
    "    for filename in filenames:\n",
    "        print(os.path.join(dirname, filename))\n",
    "\n",
    "# You can write up to 20GB to the current directory (/kaggle/working/) that gets preserved as output when you create a version using \"Save & Run All\" \n",
    "# You can also write temporary files to /kaggle/temp/, but they won't be saved outside of the current session"
   ]
  },
  {
   "cell_type": "markdown",
   "id": "973e078b",
   "metadata": {
    "papermill": {
     "duration": 0.047496,
     "end_time": "2022-09-13T20:24:34.245071",
     "exception": false,
     "start_time": "2022-09-13T20:24:34.197575",
     "status": "completed"
    },
    "tags": []
   },
   "source": [
    "<a id=\"1\" ></a><br>\n",
    "# Load and Check Data"
   ]
  },
  {
   "cell_type": "code",
   "execution_count": 2,
   "id": "c925c3c8",
   "metadata": {
    "execution": {
     "iopub.execute_input": "2022-09-13T20:24:34.342572Z",
     "iopub.status.busy": "2022-09-13T20:24:34.341889Z",
     "iopub.status.idle": "2022-09-13T20:24:34.375313Z",
     "shell.execute_reply": "2022-09-13T20:24:34.375927Z",
     "shell.execute_reply.started": "2022-09-13T20:23:30.703085Z"
    },
    "papermill": {
     "duration": 0.085566,
     "end_time": "2022-09-13T20:24:34.376124",
     "exception": false,
     "start_time": "2022-09-13T20:24:34.290558",
     "status": "completed"
    },
    "tags": []
   },
   "outputs": [],
   "source": [
    "train_df=pd.read_csv(\"/kaggle/input/titanic/train.csv\")\n",
    "test_df=pd.read_csv(\"/kaggle/input/titanic/test.csv\")\n",
    "test_Passengerİd=test_df[\"PassengerId\"]"
   ]
  },
  {
   "cell_type": "code",
   "execution_count": 3,
   "id": "2a0faf91",
   "metadata": {
    "execution": {
     "iopub.execute_input": "2022-09-13T20:24:34.468225Z",
     "iopub.status.busy": "2022-09-13T20:24:34.467555Z",
     "iopub.status.idle": "2022-09-13T20:24:34.475747Z",
     "shell.execute_reply": "2022-09-13T20:24:34.476316Z",
     "shell.execute_reply.started": "2022-09-13T20:23:30.744292Z"
    },
    "papermill": {
     "duration": 0.055994,
     "end_time": "2022-09-13T20:24:34.476514",
     "exception": false,
     "start_time": "2022-09-13T20:24:34.420520",
     "status": "completed"
    },
    "tags": []
   },
   "outputs": [
    {
     "data": {
      "text/plain": [
       "Index(['PassengerId', 'Survived', 'Pclass', 'Name', 'Sex', 'Age', 'SibSp',\n",
       "       'Parch', 'Ticket', 'Fare', 'Cabin', 'Embarked'],\n",
       "      dtype='object')"
      ]
     },
     "execution_count": 3,
     "metadata": {},
     "output_type": "execute_result"
    }
   ],
   "source": [
    "train_df.columns"
   ]
  },
  {
   "cell_type": "code",
   "execution_count": 4,
   "id": "42cf452e",
   "metadata": {
    "execution": {
     "iopub.execute_input": "2022-09-13T20:24:34.574079Z",
     "iopub.status.busy": "2022-09-13T20:24:34.573271Z",
     "iopub.status.idle": "2022-09-13T20:24:34.594951Z",
     "shell.execute_reply": "2022-09-13T20:24:34.594268Z",
     "shell.execute_reply.started": "2022-09-13T20:23:30.755746Z"
    },
    "papermill": {
     "duration": 0.072096,
     "end_time": "2022-09-13T20:24:34.595103",
     "exception": false,
     "start_time": "2022-09-13T20:24:34.523007",
     "status": "completed"
    },
    "tags": []
   },
   "outputs": [
    {
     "data": {
      "text/html": [
       "<div>\n",
       "<style scoped>\n",
       "    .dataframe tbody tr th:only-of-type {\n",
       "        vertical-align: middle;\n",
       "    }\n",
       "\n",
       "    .dataframe tbody tr th {\n",
       "        vertical-align: top;\n",
       "    }\n",
       "\n",
       "    .dataframe thead th {\n",
       "        text-align: right;\n",
       "    }\n",
       "</style>\n",
       "<table border=\"1\" class=\"dataframe\">\n",
       "  <thead>\n",
       "    <tr style=\"text-align: right;\">\n",
       "      <th></th>\n",
       "      <th>PassengerId</th>\n",
       "      <th>Survived</th>\n",
       "      <th>Pclass</th>\n",
       "      <th>Name</th>\n",
       "      <th>Sex</th>\n",
       "      <th>Age</th>\n",
       "      <th>SibSp</th>\n",
       "      <th>Parch</th>\n",
       "      <th>Ticket</th>\n",
       "      <th>Fare</th>\n",
       "      <th>Cabin</th>\n",
       "      <th>Embarked</th>\n",
       "    </tr>\n",
       "  </thead>\n",
       "  <tbody>\n",
       "    <tr>\n",
       "      <th>0</th>\n",
       "      <td>1</td>\n",
       "      <td>0</td>\n",
       "      <td>3</td>\n",
       "      <td>Braund, Mr. Owen Harris</td>\n",
       "      <td>male</td>\n",
       "      <td>22.0</td>\n",
       "      <td>1</td>\n",
       "      <td>0</td>\n",
       "      <td>A/5 21171</td>\n",
       "      <td>7.2500</td>\n",
       "      <td>NaN</td>\n",
       "      <td>S</td>\n",
       "    </tr>\n",
       "    <tr>\n",
       "      <th>1</th>\n",
       "      <td>2</td>\n",
       "      <td>1</td>\n",
       "      <td>1</td>\n",
       "      <td>Cumings, Mrs. John Bradley (Florence Briggs Th...</td>\n",
       "      <td>female</td>\n",
       "      <td>38.0</td>\n",
       "      <td>1</td>\n",
       "      <td>0</td>\n",
       "      <td>PC 17599</td>\n",
       "      <td>71.2833</td>\n",
       "      <td>C85</td>\n",
       "      <td>C</td>\n",
       "    </tr>\n",
       "    <tr>\n",
       "      <th>2</th>\n",
       "      <td>3</td>\n",
       "      <td>1</td>\n",
       "      <td>3</td>\n",
       "      <td>Heikkinen, Miss. Laina</td>\n",
       "      <td>female</td>\n",
       "      <td>26.0</td>\n",
       "      <td>0</td>\n",
       "      <td>0</td>\n",
       "      <td>STON/O2. 3101282</td>\n",
       "      <td>7.9250</td>\n",
       "      <td>NaN</td>\n",
       "      <td>S</td>\n",
       "    </tr>\n",
       "    <tr>\n",
       "      <th>3</th>\n",
       "      <td>4</td>\n",
       "      <td>1</td>\n",
       "      <td>1</td>\n",
       "      <td>Futrelle, Mrs. Jacques Heath (Lily May Peel)</td>\n",
       "      <td>female</td>\n",
       "      <td>35.0</td>\n",
       "      <td>1</td>\n",
       "      <td>0</td>\n",
       "      <td>113803</td>\n",
       "      <td>53.1000</td>\n",
       "      <td>C123</td>\n",
       "      <td>S</td>\n",
       "    </tr>\n",
       "    <tr>\n",
       "      <th>4</th>\n",
       "      <td>5</td>\n",
       "      <td>0</td>\n",
       "      <td>3</td>\n",
       "      <td>Allen, Mr. William Henry</td>\n",
       "      <td>male</td>\n",
       "      <td>35.0</td>\n",
       "      <td>0</td>\n",
       "      <td>0</td>\n",
       "      <td>373450</td>\n",
       "      <td>8.0500</td>\n",
       "      <td>NaN</td>\n",
       "      <td>S</td>\n",
       "    </tr>\n",
       "  </tbody>\n",
       "</table>\n",
       "</div>"
      ],
      "text/plain": [
       "   PassengerId  Survived  Pclass  \\\n",
       "0            1         0       3   \n",
       "1            2         1       1   \n",
       "2            3         1       3   \n",
       "3            4         1       1   \n",
       "4            5         0       3   \n",
       "\n",
       "                                                Name     Sex   Age  SibSp  \\\n",
       "0                            Braund, Mr. Owen Harris    male  22.0      1   \n",
       "1  Cumings, Mrs. John Bradley (Florence Briggs Th...  female  38.0      1   \n",
       "2                             Heikkinen, Miss. Laina  female  26.0      0   \n",
       "3       Futrelle, Mrs. Jacques Heath (Lily May Peel)  female  35.0      1   \n",
       "4                           Allen, Mr. William Henry    male  35.0      0   \n",
       "\n",
       "   Parch            Ticket     Fare Cabin Embarked  \n",
       "0      0         A/5 21171   7.2500   NaN        S  \n",
       "1      0          PC 17599  71.2833   C85        C  \n",
       "2      0  STON/O2. 3101282   7.9250   NaN        S  \n",
       "3      0            113803  53.1000  C123        S  \n",
       "4      0            373450   8.0500   NaN        S  "
      ]
     },
     "execution_count": 4,
     "metadata": {},
     "output_type": "execute_result"
    }
   ],
   "source": [
    "train_df.head()"
   ]
  },
  {
   "cell_type": "code",
   "execution_count": 5,
   "id": "1676ee99",
   "metadata": {
    "execution": {
     "iopub.execute_input": "2022-09-13T20:24:34.698117Z",
     "iopub.status.busy": "2022-09-13T20:24:34.697358Z",
     "iopub.status.idle": "2022-09-13T20:24:34.729707Z",
     "shell.execute_reply": "2022-09-13T20:24:34.729031Z",
     "shell.execute_reply.started": "2022-09-13T20:23:30.788967Z"
    },
    "papermill": {
     "duration": 0.088879,
     "end_time": "2022-09-13T20:24:34.729896",
     "exception": false,
     "start_time": "2022-09-13T20:24:34.641017",
     "status": "completed"
    },
    "tags": []
   },
   "outputs": [
    {
     "data": {
      "text/html": [
       "<div>\n",
       "<style scoped>\n",
       "    .dataframe tbody tr th:only-of-type {\n",
       "        vertical-align: middle;\n",
       "    }\n",
       "\n",
       "    .dataframe tbody tr th {\n",
       "        vertical-align: top;\n",
       "    }\n",
       "\n",
       "    .dataframe thead th {\n",
       "        text-align: right;\n",
       "    }\n",
       "</style>\n",
       "<table border=\"1\" class=\"dataframe\">\n",
       "  <thead>\n",
       "    <tr style=\"text-align: right;\">\n",
       "      <th></th>\n",
       "      <th>PassengerId</th>\n",
       "      <th>Survived</th>\n",
       "      <th>Pclass</th>\n",
       "      <th>Age</th>\n",
       "      <th>SibSp</th>\n",
       "      <th>Parch</th>\n",
       "      <th>Fare</th>\n",
       "    </tr>\n",
       "  </thead>\n",
       "  <tbody>\n",
       "    <tr>\n",
       "      <th>count</th>\n",
       "      <td>891.000000</td>\n",
       "      <td>891.000000</td>\n",
       "      <td>891.000000</td>\n",
       "      <td>714.000000</td>\n",
       "      <td>891.000000</td>\n",
       "      <td>891.000000</td>\n",
       "      <td>891.000000</td>\n",
       "    </tr>\n",
       "    <tr>\n",
       "      <th>mean</th>\n",
       "      <td>446.000000</td>\n",
       "      <td>0.383838</td>\n",
       "      <td>2.308642</td>\n",
       "      <td>29.699118</td>\n",
       "      <td>0.523008</td>\n",
       "      <td>0.381594</td>\n",
       "      <td>32.204208</td>\n",
       "    </tr>\n",
       "    <tr>\n",
       "      <th>std</th>\n",
       "      <td>257.353842</td>\n",
       "      <td>0.486592</td>\n",
       "      <td>0.836071</td>\n",
       "      <td>14.526497</td>\n",
       "      <td>1.102743</td>\n",
       "      <td>0.806057</td>\n",
       "      <td>49.693429</td>\n",
       "    </tr>\n",
       "    <tr>\n",
       "      <th>min</th>\n",
       "      <td>1.000000</td>\n",
       "      <td>0.000000</td>\n",
       "      <td>1.000000</td>\n",
       "      <td>0.420000</td>\n",
       "      <td>0.000000</td>\n",
       "      <td>0.000000</td>\n",
       "      <td>0.000000</td>\n",
       "    </tr>\n",
       "    <tr>\n",
       "      <th>25%</th>\n",
       "      <td>223.500000</td>\n",
       "      <td>0.000000</td>\n",
       "      <td>2.000000</td>\n",
       "      <td>20.125000</td>\n",
       "      <td>0.000000</td>\n",
       "      <td>0.000000</td>\n",
       "      <td>7.910400</td>\n",
       "    </tr>\n",
       "    <tr>\n",
       "      <th>50%</th>\n",
       "      <td>446.000000</td>\n",
       "      <td>0.000000</td>\n",
       "      <td>3.000000</td>\n",
       "      <td>28.000000</td>\n",
       "      <td>0.000000</td>\n",
       "      <td>0.000000</td>\n",
       "      <td>14.454200</td>\n",
       "    </tr>\n",
       "    <tr>\n",
       "      <th>75%</th>\n",
       "      <td>668.500000</td>\n",
       "      <td>1.000000</td>\n",
       "      <td>3.000000</td>\n",
       "      <td>38.000000</td>\n",
       "      <td>1.000000</td>\n",
       "      <td>0.000000</td>\n",
       "      <td>31.000000</td>\n",
       "    </tr>\n",
       "    <tr>\n",
       "      <th>max</th>\n",
       "      <td>891.000000</td>\n",
       "      <td>1.000000</td>\n",
       "      <td>3.000000</td>\n",
       "      <td>80.000000</td>\n",
       "      <td>8.000000</td>\n",
       "      <td>6.000000</td>\n",
       "      <td>512.329200</td>\n",
       "    </tr>\n",
       "  </tbody>\n",
       "</table>\n",
       "</div>"
      ],
      "text/plain": [
       "       PassengerId    Survived      Pclass         Age       SibSp  \\\n",
       "count   891.000000  891.000000  891.000000  714.000000  891.000000   \n",
       "mean    446.000000    0.383838    2.308642   29.699118    0.523008   \n",
       "std     257.353842    0.486592    0.836071   14.526497    1.102743   \n",
       "min       1.000000    0.000000    1.000000    0.420000    0.000000   \n",
       "25%     223.500000    0.000000    2.000000   20.125000    0.000000   \n",
       "50%     446.000000    0.000000    3.000000   28.000000    0.000000   \n",
       "75%     668.500000    1.000000    3.000000   38.000000    1.000000   \n",
       "max     891.000000    1.000000    3.000000   80.000000    8.000000   \n",
       "\n",
       "            Parch        Fare  \n",
       "count  891.000000  891.000000  \n",
       "mean     0.381594   32.204208  \n",
       "std      0.806057   49.693429  \n",
       "min      0.000000    0.000000  \n",
       "25%      0.000000    7.910400  \n",
       "50%      0.000000   14.454200  \n",
       "75%      0.000000   31.000000  \n",
       "max      6.000000  512.329200  "
      ]
     },
     "execution_count": 5,
     "metadata": {},
     "output_type": "execute_result"
    }
   ],
   "source": [
    "train_df.describe()"
   ]
  },
  {
   "cell_type": "markdown",
   "id": "0ca152ad",
   "metadata": {
    "papermill": {
     "duration": 0.048728,
     "end_time": "2022-09-13T20:24:34.827791",
     "exception": false,
     "start_time": "2022-09-13T20:24:34.779063",
     "status": "completed"
    },
    "tags": []
   },
   "source": [
    "<a id=\"2\" ></a><br>\n",
    "# Variable Description\n",
    "\n",
    "\n",
    "1. PassengerId : unique id number to each passenger\n",
    "1. Survived : passenger survive(1) or died(0)\n",
    "1. Pclass : passenger class\n",
    "1. Name : name of passenger\n",
    "1. Sex : gender of passenger\n",
    "1. Age : age of passenger\n",
    "1. SibSp : number of siblings/spouses\n",
    "1. Parch : number of parent/children\n",
    "1. Ticket : ticket number\n",
    "1. Fare : amount of money spent on ticket\n",
    "1. Cabin : cabin category\n",
    "1. Embarked : port where passenger ambarked (C = Cherbourg , Q = Queenstown , S = Southampton)\n"
   ]
  },
  {
   "cell_type": "code",
   "execution_count": 6,
   "id": "eb62e363",
   "metadata": {
    "execution": {
     "iopub.execute_input": "2022-09-13T20:24:34.937514Z",
     "iopub.status.busy": "2022-09-13T20:24:34.936770Z",
     "iopub.status.idle": "2022-09-13T20:24:34.952590Z",
     "shell.execute_reply": "2022-09-13T20:24:34.953188Z",
     "shell.execute_reply.started": "2022-09-13T20:23:30.847172Z"
    },
    "papermill": {
     "duration": 0.070347,
     "end_time": "2022-09-13T20:24:34.953386",
     "exception": false,
     "start_time": "2022-09-13T20:24:34.883039",
     "status": "completed"
    },
    "tags": []
   },
   "outputs": [
    {
     "name": "stdout",
     "output_type": "stream",
     "text": [
      "<class 'pandas.core.frame.DataFrame'>\n",
      "RangeIndex: 891 entries, 0 to 890\n",
      "Data columns (total 12 columns):\n",
      " #   Column       Non-Null Count  Dtype  \n",
      "---  ------       --------------  -----  \n",
      " 0   PassengerId  891 non-null    int64  \n",
      " 1   Survived     891 non-null    int64  \n",
      " 2   Pclass       891 non-null    int64  \n",
      " 3   Name         891 non-null    object \n",
      " 4   Sex          891 non-null    object \n",
      " 5   Age          714 non-null    float64\n",
      " 6   SibSp        891 non-null    int64  \n",
      " 7   Parch        891 non-null    int64  \n",
      " 8   Ticket       891 non-null    object \n",
      " 9   Fare         891 non-null    float64\n",
      " 10  Cabin        204 non-null    object \n",
      " 11  Embarked     889 non-null    object \n",
      "dtypes: float64(2), int64(5), object(5)\n",
      "memory usage: 83.7+ KB\n"
     ]
    }
   ],
   "source": [
    "train_df.info()"
   ]
  },
  {
   "cell_type": "markdown",
   "id": "481aa69e",
   "metadata": {
    "papermill": {
     "duration": 0.050305,
     "end_time": "2022-09-13T20:24:35.053783",
     "exception": false,
     "start_time": "2022-09-13T20:24:35.003478",
     "status": "completed"
    },
    "tags": []
   },
   "source": [
    "* **float64(2) :Fare and Age**\n",
    "* **int64(5): Pclass , Parch, SibSp , Passengerid and Survived**\n",
    "* **object(5): Ticket , Cabin, Name , Embarked and Sex**o"
   ]
  },
  {
   "cell_type": "markdown",
   "id": "268ddf31",
   "metadata": {
    "papermill": {
     "duration": 0.051205,
     "end_time": "2022-09-13T20:24:35.157119",
     "exception": false,
     "start_time": "2022-09-13T20:24:35.105914",
     "status": "completed"
    },
    "tags": []
   },
   "source": [
    "<a id=\"3\" ></a><br>\n",
    "#  Univariate Description Analysis\n",
    "*         Categorical Description : Pclass , Parch , Survived , Embarked , Sex , Ticked , Cabin , Name , Sibsp \n",
    "*         Numerical Description : Age , Passenger , Fare"
   ]
  },
  {
   "cell_type": "markdown",
   "id": "88a0df08",
   "metadata": {
    "papermill": {
     "duration": 0.051732,
     "end_time": "2022-09-13T20:24:35.260458",
     "exception": false,
     "start_time": "2022-09-13T20:24:35.208726",
     "status": "completed"
    },
    "tags": []
   },
   "source": [
    "<a id=\"4\" ></a><br>\n",
    "## Categorical Description"
   ]
  },
  {
   "cell_type": "code",
   "execution_count": 7,
   "id": "8f4498db",
   "metadata": {
    "execution": {
     "iopub.execute_input": "2022-09-13T20:24:35.364799Z",
     "iopub.status.busy": "2022-09-13T20:24:35.360326Z",
     "iopub.status.idle": "2022-09-13T20:24:35.366751Z",
     "shell.execute_reply": "2022-09-13T20:24:35.367402Z",
     "shell.execute_reply.started": "2022-09-13T20:23:30.867063Z"
    },
    "papermill": {
     "duration": 0.057833,
     "end_time": "2022-09-13T20:24:35.367598",
     "exception": false,
     "start_time": "2022-09-13T20:24:35.309765",
     "status": "completed"
    },
    "tags": []
   },
   "outputs": [],
   "source": [
    "def bar_plot(variable):\n",
    "    \"\"\"\n",
    "        input: variable ex: \"sex\"\n",
    "        output: bar plot & value_count\n",
    "        \n",
    "    \"\"\"\n",
    "    # get feature\n",
    "    var= train_df[variable]\n",
    "    \n",
    "    # count number of categorical variable[value/sample]\n",
    "    varValue=var.value_counts()\n",
    "    \n",
    "    #visualize\n",
    "    plt.figure(figsize=(9,3))\n",
    "    plt.bar(varValue.index,varValue)\n",
    "    plt.xticks(varValue.index,varValue.index.values)\n",
    "    plt.ylabel(\"Frequency\")\n",
    "    plt.title(variable)\n",
    "    plt.show()\n",
    "    print(\"{}:\\n {}\".format(variable,varValue))\n",
    "    "
   ]
  },
  {
   "cell_type": "code",
   "execution_count": 8,
   "id": "a15e13fc",
   "metadata": {
    "execution": {
     "iopub.execute_input": "2022-09-13T20:24:35.468988Z",
     "iopub.status.busy": "2022-09-13T20:24:35.465583Z",
     "iopub.status.idle": "2022-09-13T20:24:36.606677Z",
     "shell.execute_reply": "2022-09-13T20:24:36.607425Z",
     "shell.execute_reply.started": "2022-09-13T20:23:30.876736Z"
    },
    "papermill": {
     "duration": 1.191765,
     "end_time": "2022-09-13T20:24:36.607667",
     "exception": false,
     "start_time": "2022-09-13T20:24:35.415902",
     "status": "completed"
    },
    "tags": []
   },
   "outputs": [
    {
     "data": {
      "image/png": "[encoded data removed]",
      "text/plain": [
       "<Figure size 648x216 with 1 Axes>"
      ]
     },
     "metadata": {},
     "output_type": "display_data"
    },
    {
     "name": "stdout",
     "output_type": "stream",
     "text": [
      "Pclass:\n",
      " 3    491\n",
      "1    216\n",
      "2    184\n",
      "Name: Pclass, dtype: int64\n"
     ]
    },
    {
     "data": {
      "image/png": "[encoded data removed]",
      "text/plain": [
       "<Figure size 648x216 with 1 Axes>"
      ]
     },
     "metadata": {},
     "output_type": "display_data"
    },
    {
     "name": "stdout",
     "output_type": "stream",
     "text": [
      "Parch:\n",
      " 0    678\n",
      "1    118\n",
      "2     80\n",
      "5      5\n",
      "3      5\n",
      "4      4\n",
      "6      1\n",
      "Name: Parch, dtype: int64\n"
     ]
    },
    {
     "data": {
      "image/png": "[encoded data removed]",
      "text/plain": [
       "<Figure size 648x216 with 1 Axes>"
      ]
     },
     "metadata": {},
     "output_type": "display_data"
    },
    {
     "name": "stdout",
     "output_type": "stream",
     "text": [
      "Survived:\n",
      " 0    549\n",
      "1    342\n",
      "Name: Survived, dtype: int64\n"
     ]
    },
    {
     "data": {
      "image/png": "[encoded data removed]",
      "text/plain": [
       "<Figure size 648x216 with 1 Axes>"
      ]
     },
     "metadata": {},
     "output_type": "display_data"
    },
    {
     "name": "stdout",
     "output_type": "stream",
     "text": [
      "Embarked:\n",
      " S    644\n",
      "C    168\n",
      "Q     77\n",
      "Name: Embarked, dtype: int64\n"
     ]
    },
    {
     "data": {
      "image/png": "[encoded data removed]",
      "text/plain": [
       "<Figure size 648x216 with 1 Axes>"
      ]
     },
     "metadata": {},
     "output_type": "display_data"
    },
    {
     "name": "stdout",
     "output_type": "stream",
     "text": [
      "Sex:\n",
      " male      577\n",
      "female    314\n",
      "Name: Sex, dtype: int64\n"
     ]
    },
    {
     "data": {
      "image/png": "[encoded data removed]",
      "text/plain": [
       "<Figure size 648x216 with 1 Axes>"
      ]
     },
     "metadata": {},
     "output_type": "display_data"
    },
    {
     "name": "stdout",
     "output_type": "stream",
     "text": [
      "SibSp:\n",
      " 0    608\n",
      "1    209\n",
      "2     28\n",
      "4     18\n",
      "3     16\n",
      "8      7\n",
      "5      5\n",
      "Name: SibSp, dtype: int64\n"
     ]
    }
   ],
   "source": [
    "category=[\"Pclass\" , \"Parch\" , \"Survived\" , \"Embarked\" , \"Sex\"   , \"SibSp\"]\n",
    "for c in category:\n",
    "    bar_plot(c)"
   ]
  },
  {
   "cell_type": "markdown",
   "id": "28870914",
   "metadata": {
    "papermill": {
     "duration": 0.058539,
     "end_time": "2022-09-13T20:24:36.727763",
     "exception": false,
     "start_time": "2022-09-13T20:24:36.669224",
     "status": "completed"
    },
    "tags": []
   },
   "source": [
    "<a id=\"4\" ></a><br>\n",
    "## Numerical Description  "
   ]
  },
  {
   "cell_type": "code",
   "execution_count": 9,
   "id": "fdbaa5f9",
   "metadata": {
    "execution": {
     "iopub.execute_input": "2022-09-13T20:24:36.850705Z",
     "iopub.status.busy": "2022-09-13T20:24:36.849853Z",
     "iopub.status.idle": "2022-09-13T20:24:36.852396Z",
     "shell.execute_reply": "2022-09-13T20:24:36.852986Z",
     "shell.execute_reply.started": "2022-09-13T20:23:32.033456Z"
    },
    "papermill": {
     "duration": 0.066127,
     "end_time": "2022-09-13T20:24:36.853210",
     "exception": false,
     "start_time": "2022-09-13T20:24:36.787083",
     "status": "completed"
    },
    "tags": []
   },
   "outputs": [],
   "source": [
    "def hist_plot(variable):\n",
    "    plt.figure(figsize=(9,3))\n",
    "    plt.hist(train_df[variable],bins=50)\n",
    "    plt.xlabel(variable)\n",
    "    plt.ylabel(\"Frequency\")\n",
    "    plt.title(\"{} distribution with hist \".format(variable))\n",
    "    plt.show()"
   ]
  },
  {
   "cell_type": "code",
   "execution_count": 10,
   "id": "7fc4714a",
   "metadata": {
    "execution": {
     "iopub.execute_input": "2022-09-13T20:24:36.974448Z",
     "iopub.status.busy": "2022-09-13T20:24:36.973413Z",
     "iopub.status.idle": "2022-09-13T20:24:37.550613Z",
     "shell.execute_reply": "2022-09-13T20:24:37.550037Z",
     "shell.execute_reply.started": "2022-09-13T20:23:32.043627Z"
    },
    "papermill": {
     "duration": 0.63838,
     "end_time": "2022-09-13T20:24:37.550762",
     "exception": false,
     "start_time": "2022-09-13T20:24:36.912382",
     "status": "completed"
    },
    "tags": []
   },
   "outputs": [
    {
     "data": {
      "image/png": "[encoded data removed]",
      "text/plain": [
       "<Figure size 648x216 with 1 Axes>"
      ]
     },
     "metadata": {},
     "output_type": "display_data"
    },
    {
     "data": {
      "image/png": "[encoded data removed]",
      "text/plain": [
       "<Figure size 648x216 with 1 Axes>"
      ]
     },
     "metadata": {},
     "output_type": "display_data"
    }
   ],
   "source": [
    "numericvar=[\"Fare\",\"Age\"]\n",
    "for i in numericvar:\n",
    "    hist_plot(i)"
   ]
  },
  {
   "cell_type": "markdown",
   "id": "f43a7c34",
   "metadata": {
    "papermill": {
     "duration": 0.054281,
     "end_time": "2022-09-13T20:24:37.660213",
     "exception": false,
     "start_time": "2022-09-13T20:24:37.605932",
     "status": "completed"
    },
    "tags": []
   },
   "source": [
    "<a id=\"6\" ></a><br>\n",
    "# Basic Data Analysis\n",
    "* Pclass - Survived\n",
    "* Sex - Survived\n",
    "* Sibsp - Survived\n",
    "* Parch - Survived\n"
   ]
  },
  {
   "cell_type": "code",
   "execution_count": 11,
   "id": "421a4dab",
   "metadata": {
    "execution": {
     "iopub.execute_input": "2022-09-13T20:24:37.780677Z",
     "iopub.status.busy": "2022-09-13T20:24:37.779065Z",
     "iopub.status.idle": "2022-09-13T20:24:37.787415Z",
     "shell.execute_reply": "2022-09-13T20:24:37.786781Z",
     "shell.execute_reply.started": "2022-09-13T20:23:32.646061Z"
    },
    "papermill": {
     "duration": 0.072952,
     "end_time": "2022-09-13T20:24:37.787564",
     "exception": false,
     "start_time": "2022-09-13T20:24:37.714612",
     "status": "completed"
    },
    "tags": []
   },
   "outputs": [
    {
     "data": {
      "text/html": [
       "<div>\n",
       "<style scoped>\n",
       "    .dataframe tbody tr th:only-of-type {\n",
       "        vertical-align: middle;\n",
       "    }\n",
       "\n",
       "    .dataframe tbody tr th {\n",
       "        vertical-align: top;\n",
       "    }\n",
       "\n",
       "    .dataframe thead th {\n",
       "        text-align: right;\n",
       "    }\n",
       "</style>\n",
       "<table border=\"1\" class=\"dataframe\">\n",
       "  <thead>\n",
       "    <tr style=\"text-align: right;\">\n",
       "      <th></th>\n",
       "      <th>Pclass</th>\n",
       "      <th>Survived</th>\n",
       "    </tr>\n",
       "  </thead>\n",
       "  <tbody>\n",
       "    <tr>\n",
       "      <th>0</th>\n",
       "      <td>1</td>\n",
       "      <td>0.629630</td>\n",
       "    </tr>\n",
       "    <tr>\n",
       "      <th>1</th>\n",
       "      <td>2</td>\n",
       "      <td>0.472826</td>\n",
       "    </tr>\n",
       "    <tr>\n",
       "      <th>2</th>\n",
       "      <td>3</td>\n",
       "      <td>0.242363</td>\n",
       "    </tr>\n",
       "  </tbody>\n",
       "</table>\n",
       "</div>"
      ],
      "text/plain": [
       "   Pclass  Survived\n",
       "0       1  0.629630\n",
       "1       2  0.472826\n",
       "2       3  0.242363"
      ]
     },
     "execution_count": 11,
     "metadata": {},
     "output_type": "execute_result"
    }
   ],
   "source": [
    "train_df[[\"Pclass\",\"Survived\"]].groupby([\"Pclass\"],as_index=False).mean().sort_values(by=\"Survived\",ascending=False)"
   ]
  },
  {
   "cell_type": "code",
   "execution_count": 12,
   "id": "5256300c",
   "metadata": {
    "execution": {
     "iopub.execute_input": "2022-09-13T20:24:37.900717Z",
     "iopub.status.busy": "2022-09-13T20:24:37.900059Z",
     "iopub.status.idle": "2022-09-13T20:24:37.912797Z",
     "shell.execute_reply": "2022-09-13T20:24:37.913347Z",
     "shell.execute_reply.started": "2022-09-13T20:23:32.663660Z"
    },
    "papermill": {
     "duration": 0.070916,
     "end_time": "2022-09-13T20:24:37.913538",
     "exception": false,
     "start_time": "2022-09-13T20:24:37.842622",
     "status": "completed"
    },
    "tags": []
   },
   "outputs": [
    {
     "data": {
      "text/html": [
       "<div>\n",
       "<style scoped>\n",
       "    .dataframe tbody tr th:only-of-type {\n",
       "        vertical-align: middle;\n",
       "    }\n",
       "\n",
       "    .dataframe tbody tr th {\n",
       "        vertical-align: top;\n",
       "    }\n",
       "\n",
       "    .dataframe thead th {\n",
       "        text-align: right;\n",
       "    }\n",
       "</style>\n",
       "<table border=\"1\" class=\"dataframe\">\n",
       "  <thead>\n",
       "    <tr style=\"text-align: right;\">\n",
       "      <th></th>\n",
       "      <th>Sex</th>\n",
       "      <th>Survived</th>\n",
       "    </tr>\n",
       "  </thead>\n",
       "  <tbody>\n",
       "    <tr>\n",
       "      <th>0</th>\n",
       "      <td>female</td>\n",
       "      <td>0.742038</td>\n",
       "    </tr>\n",
       "    <tr>\n",
       "      <th>1</th>\n",
       "      <td>male</td>\n",
       "      <td>0.188908</td>\n",
       "    </tr>\n",
       "  </tbody>\n",
       "</table>\n",
       "</div>"
      ],
      "text/plain": [
       "      Sex  Survived\n",
       "0  female  0.742038\n",
       "1    male  0.188908"
      ]
     },
     "execution_count": 12,
     "metadata": {},
     "output_type": "execute_result"
    }
   ],
   "source": [
    "train_df[[\"Sex\",\"Survived\"]].groupby([\"Sex\"],as_index=False).mean().sort_values(by=\"Survived\",ascending=False)"
   ]
  },
  {
   "cell_type": "code",
   "execution_count": 13,
   "id": "d8d1e58a",
   "metadata": {
    "execution": {
     "iopub.execute_input": "2022-09-13T20:24:38.030156Z",
     "iopub.status.busy": "2022-09-13T20:24:38.029345Z",
     "iopub.status.idle": "2022-09-13T20:24:38.041759Z",
     "shell.execute_reply": "2022-09-13T20:24:38.042322Z",
     "shell.execute_reply.started": "2022-09-13T20:23:32.688524Z"
    },
    "papermill": {
     "duration": 0.071475,
     "end_time": "2022-09-13T20:24:38.042514",
     "exception": false,
     "start_time": "2022-09-13T20:24:37.971039",
     "status": "completed"
    },
    "tags": []
   },
   "outputs": [
    {
     "data": {
      "text/html": [
       "<div>\n",
       "<style scoped>\n",
       "    .dataframe tbody tr th:only-of-type {\n",
       "        vertical-align: middle;\n",
       "    }\n",
       "\n",
       "    .dataframe tbody tr th {\n",
       "        vertical-align: top;\n",
       "    }\n",
       "\n",
       "    .dataframe thead th {\n",
       "        text-align: right;\n",
       "    }\n",
       "</style>\n",
       "<table border=\"1\" class=\"dataframe\">\n",
       "  <thead>\n",
       "    <tr style=\"text-align: right;\">\n",
       "      <th></th>\n",
       "      <th>SibSp</th>\n",
       "      <th>Survived</th>\n",
       "    </tr>\n",
       "  </thead>\n",
       "  <tbody>\n",
       "    <tr>\n",
       "      <th>1</th>\n",
       "      <td>1</td>\n",
       "      <td>0.535885</td>\n",
       "    </tr>\n",
       "    <tr>\n",
       "      <th>2</th>\n",
       "      <td>2</td>\n",
       "      <td>0.464286</td>\n",
       "    </tr>\n",
       "    <tr>\n",
       "      <th>0</th>\n",
       "      <td>0</td>\n",
       "      <td>0.345395</td>\n",
       "    </tr>\n",
       "    <tr>\n",
       "      <th>3</th>\n",
       "      <td>3</td>\n",
       "      <td>0.250000</td>\n",
       "    </tr>\n",
       "    <tr>\n",
       "      <th>4</th>\n",
       "      <td>4</td>\n",
       "      <td>0.166667</td>\n",
       "    </tr>\n",
       "    <tr>\n",
       "      <th>5</th>\n",
       "      <td>5</td>\n",
       "      <td>0.000000</td>\n",
       "    </tr>\n",
       "    <tr>\n",
       "      <th>6</th>\n",
       "      <td>8</td>\n",
       "      <td>0.000000</td>\n",
       "    </tr>\n",
       "  </tbody>\n",
       "</table>\n",
       "</div>"
      ],
      "text/plain": [
       "   SibSp  Survived\n",
       "1      1  0.535885\n",
       "2      2  0.464286\n",
       "0      0  0.345395\n",
       "3      3  0.250000\n",
       "4      4  0.166667\n",
       "5      5  0.000000\n",
       "6      8  0.000000"
      ]
     },
     "execution_count": 13,
     "metadata": {},
     "output_type": "execute_result"
    }
   ],
   "source": [
    "train_df[[\"SibSp\",\"Survived\"]].groupby([\"SibSp\"],as_index=False).mean().sort_values(by=\"Survived\",ascending=False)"
   ]
  },
  {
   "cell_type": "code",
   "execution_count": 14,
   "id": "8cd14aff",
   "metadata": {
    "execution": {
     "iopub.execute_input": "2022-09-13T20:24:38.167273Z",
     "iopub.status.busy": "2022-09-13T20:24:38.166221Z",
     "iopub.status.idle": "2022-09-13T20:24:38.176120Z",
     "shell.execute_reply": "2022-09-13T20:24:38.176659Z",
     "shell.execute_reply.started": "2022-09-13T20:23:32.707418Z"
    },
    "papermill": {
     "duration": 0.077381,
     "end_time": "2022-09-13T20:24:38.176860",
     "exception": false,
     "start_time": "2022-09-13T20:24:38.099479",
     "status": "completed"
    },
    "tags": []
   },
   "outputs": [
    {
     "data": {
      "text/html": [
       "<div>\n",
       "<style scoped>\n",
       "    .dataframe tbody tr th:only-of-type {\n",
       "        vertical-align: middle;\n",
       "    }\n",
       "\n",
       "    .dataframe tbody tr th {\n",
       "        vertical-align: top;\n",
       "    }\n",
       "\n",
       "    .dataframe thead th {\n",
       "        text-align: right;\n",
       "    }\n",
       "</style>\n",
       "<table border=\"1\" class=\"dataframe\">\n",
       "  <thead>\n",
       "    <tr style=\"text-align: right;\">\n",
       "      <th></th>\n",
       "      <th>Parch</th>\n",
       "      <th>Survived</th>\n",
       "    </tr>\n",
       "  </thead>\n",
       "  <tbody>\n",
       "    <tr>\n",
       "      <th>3</th>\n",
       "      <td>3</td>\n",
       "      <td>0.600000</td>\n",
       "    </tr>\n",
       "    <tr>\n",
       "      <th>1</th>\n",
       "      <td>1</td>\n",
       "      <td>0.550847</td>\n",
       "    </tr>\n",
       "    <tr>\n",
       "      <th>2</th>\n",
       "      <td>2</td>\n",
       "      <td>0.500000</td>\n",
       "    </tr>\n",
       "    <tr>\n",
       "      <th>0</th>\n",
       "      <td>0</td>\n",
       "      <td>0.343658</td>\n",
       "    </tr>\n",
       "    <tr>\n",
       "      <th>5</th>\n",
       "      <td>5</td>\n",
       "      <td>0.200000</td>\n",
       "    </tr>\n",
       "    <tr>\n",
       "      <th>4</th>\n",
       "      <td>4</td>\n",
       "      <td>0.000000</td>\n",
       "    </tr>\n",
       "    <tr>\n",
       "      <th>6</th>\n",
       "      <td>6</td>\n",
       "      <td>0.000000</td>\n",
       "    </tr>\n",
       "  </tbody>\n",
       "</table>\n",
       "</div>"
      ],
      "text/plain": [
       "   Parch  Survived\n",
       "3      3  0.600000\n",
       "1      1  0.550847\n",
       "2      2  0.500000\n",
       "0      0  0.343658\n",
       "5      5  0.200000\n",
       "4      4  0.000000\n",
       "6      6  0.000000"
      ]
     },
     "execution_count": 14,
     "metadata": {},
     "output_type": "execute_result"
    }
   ],
   "source": [
    "train_df[[\"Parch\",\"Survived\"]].groupby([\"Parch\"],as_index=False).mean().sort_values(by=\"Survived\",ascending=False)"
   ]
  },
  {
   "cell_type": "markdown",
   "id": "32d1c066",
   "metadata": {
    "papermill": {
     "duration": 0.057211,
     "end_time": "2022-09-13T20:24:38.290865",
     "exception": false,
     "start_time": "2022-09-13T20:24:38.233654",
     "status": "completed"
    },
    "tags": []
   },
   "source": [
    "<a id=\"7\" ></a><br>\n",
    "# Outlier Detection"
   ]
  },
  {
   "cell_type": "code",
   "execution_count": 15,
   "id": "f5ea255a",
   "metadata": {
    "execution": {
     "iopub.execute_input": "2022-09-13T20:24:38.413491Z",
     "iopub.status.busy": "2022-09-13T20:24:38.412380Z",
     "iopub.status.idle": "2022-09-13T20:24:38.414353Z",
     "shell.execute_reply": "2022-09-13T20:24:38.414852Z",
     "shell.execute_reply.started": "2022-09-13T20:23:32.725949Z"
    },
    "papermill": {
     "duration": 0.066989,
     "end_time": "2022-09-13T20:24:38.415037",
     "exception": false,
     "start_time": "2022-09-13T20:24:38.348048",
     "status": "completed"
    },
    "tags": []
   },
   "outputs": [],
   "source": [
    "def detect_outliers(df,features):\n",
    "    outlier_indices = []\n",
    "    \n",
    "    for c in features:\n",
    "        # 1st quartile\n",
    "        Q1 = np.percentile(df[c],25)\n",
    "        # 3rd quartile\n",
    "        Q3 = np.percentile(df[c],75)\n",
    "        # IQR\n",
    "        IQR = Q3 - Q1\n",
    "        # Outlier step\n",
    "        outlier_step = IQR * 1.5\n",
    "        # detect outlier and their indeces\n",
    "        outlier_list_col = df[(df[c] < Q1 - outlier_step) | (df[c] > Q3 + outlier_step)].index\n",
    "        # store indeces\n",
    "        outlier_indices.extend(outlier_list_col)\n",
    "    \n",
    "    outlier_indices = Counter(outlier_indices)\n",
    "    multiple_outliers = list(i for i, v in outlier_indices.items() if v > 2)\n",
    "    \n",
    "    return multiple_outliers"
   ]
  },
  {
   "cell_type": "code",
   "execution_count": 16,
   "id": "d979144b",
   "metadata": {
    "execution": {
     "iopub.execute_input": "2022-09-13T20:24:38.534594Z",
     "iopub.status.busy": "2022-09-13T20:24:38.533649Z",
     "iopub.status.idle": "2022-09-13T20:24:38.556015Z",
     "shell.execute_reply": "2022-09-13T20:24:38.556540Z",
     "shell.execute_reply.started": "2022-09-13T20:23:32.738261Z"
    },
    "papermill": {
     "duration": 0.083838,
     "end_time": "2022-09-13T20:24:38.556726",
     "exception": false,
     "start_time": "2022-09-13T20:24:38.472888",
     "status": "completed"
    },
    "tags": []
   },
   "outputs": [
    {
     "data": {
      "text/html": [
       "<div>\n",
       "<style scoped>\n",
       "    .dataframe tbody tr th:only-of-type {\n",
       "        vertical-align: middle;\n",
       "    }\n",
       "\n",
       "    .dataframe tbody tr th {\n",
       "        vertical-align: top;\n",
       "    }\n",
       "\n",
       "    .dataframe thead th {\n",
       "        text-align: right;\n",
       "    }\n",
       "</style>\n",
       "<table border=\"1\" class=\"dataframe\">\n",
       "  <thead>\n",
       "    <tr style=\"text-align: right;\">\n",
       "      <th></th>\n",
       "      <th>PassengerId</th>\n",
       "      <th>Survived</th>\n",
       "      <th>Pclass</th>\n",
       "      <th>Name</th>\n",
       "      <th>Sex</th>\n",
       "      <th>Age</th>\n",
       "      <th>SibSp</th>\n",
       "      <th>Parch</th>\n",
       "      <th>Ticket</th>\n",
       "      <th>Fare</th>\n",
       "      <th>Cabin</th>\n",
       "      <th>Embarked</th>\n",
       "    </tr>\n",
       "  </thead>\n",
       "  <tbody>\n",
       "    <tr>\n",
       "      <th>27</th>\n",
       "      <td>28</td>\n",
       "      <td>0</td>\n",
       "      <td>1</td>\n",
       "      <td>Fortune, Mr. Charles Alexander</td>\n",
       "      <td>male</td>\n",
       "      <td>19.0</td>\n",
       "      <td>3</td>\n",
       "      <td>2</td>\n",
       "      <td>19950</td>\n",
       "      <td>263.00</td>\n",
       "      <td>C23 C25 C27</td>\n",
       "      <td>S</td>\n",
       "    </tr>\n",
       "    <tr>\n",
       "      <th>88</th>\n",
       "      <td>89</td>\n",
       "      <td>1</td>\n",
       "      <td>1</td>\n",
       "      <td>Fortune, Miss. Mabel Helen</td>\n",
       "      <td>female</td>\n",
       "      <td>23.0</td>\n",
       "      <td>3</td>\n",
       "      <td>2</td>\n",
       "      <td>19950</td>\n",
       "      <td>263.00</td>\n",
       "      <td>C23 C25 C27</td>\n",
       "      <td>S</td>\n",
       "    </tr>\n",
       "    <tr>\n",
       "      <th>159</th>\n",
       "      <td>160</td>\n",
       "      <td>0</td>\n",
       "      <td>3</td>\n",
       "      <td>Sage, Master. Thomas Henry</td>\n",
       "      <td>male</td>\n",
       "      <td>NaN</td>\n",
       "      <td>8</td>\n",
       "      <td>2</td>\n",
       "      <td>CA. 2343</td>\n",
       "      <td>69.55</td>\n",
       "      <td>NaN</td>\n",
       "      <td>S</td>\n",
       "    </tr>\n",
       "    <tr>\n",
       "      <th>180</th>\n",
       "      <td>181</td>\n",
       "      <td>0</td>\n",
       "      <td>3</td>\n",
       "      <td>Sage, Miss. Constance Gladys</td>\n",
       "      <td>female</td>\n",
       "      <td>NaN</td>\n",
       "      <td>8</td>\n",
       "      <td>2</td>\n",
       "      <td>CA. 2343</td>\n",
       "      <td>69.55</td>\n",
       "      <td>NaN</td>\n",
       "      <td>S</td>\n",
       "    </tr>\n",
       "    <tr>\n",
       "      <th>201</th>\n",
       "      <td>202</td>\n",
       "      <td>0</td>\n",
       "      <td>3</td>\n",
       "      <td>Sage, Mr. Frederick</td>\n",
       "      <td>male</td>\n",
       "      <td>NaN</td>\n",
       "      <td>8</td>\n",
       "      <td>2</td>\n",
       "      <td>CA. 2343</td>\n",
       "      <td>69.55</td>\n",
       "      <td>NaN</td>\n",
       "      <td>S</td>\n",
       "    </tr>\n",
       "    <tr>\n",
       "      <th>324</th>\n",
       "      <td>325</td>\n",
       "      <td>0</td>\n",
       "      <td>3</td>\n",
       "      <td>Sage, Mr. George John Jr</td>\n",
       "      <td>male</td>\n",
       "      <td>NaN</td>\n",
       "      <td>8</td>\n",
       "      <td>2</td>\n",
       "      <td>CA. 2343</td>\n",
       "      <td>69.55</td>\n",
       "      <td>NaN</td>\n",
       "      <td>S</td>\n",
       "    </tr>\n",
       "    <tr>\n",
       "      <th>341</th>\n",
       "      <td>342</td>\n",
       "      <td>1</td>\n",
       "      <td>1</td>\n",
       "      <td>Fortune, Miss. Alice Elizabeth</td>\n",
       "      <td>female</td>\n",
       "      <td>24.0</td>\n",
       "      <td>3</td>\n",
       "      <td>2</td>\n",
       "      <td>19950</td>\n",
       "      <td>263.00</td>\n",
       "      <td>C23 C25 C27</td>\n",
       "      <td>S</td>\n",
       "    </tr>\n",
       "    <tr>\n",
       "      <th>792</th>\n",
       "      <td>793</td>\n",
       "      <td>0</td>\n",
       "      <td>3</td>\n",
       "      <td>Sage, Miss. Stella Anna</td>\n",
       "      <td>female</td>\n",
       "      <td>NaN</td>\n",
       "      <td>8</td>\n",
       "      <td>2</td>\n",
       "      <td>CA. 2343</td>\n",
       "      <td>69.55</td>\n",
       "      <td>NaN</td>\n",
       "      <td>S</td>\n",
       "    </tr>\n",
       "    <tr>\n",
       "      <th>846</th>\n",
       "      <td>847</td>\n",
       "      <td>0</td>\n",
       "      <td>3</td>\n",
       "      <td>Sage, Mr. Douglas Bullen</td>\n",
       "      <td>male</td>\n",
       "      <td>NaN</td>\n",
       "      <td>8</td>\n",
       "      <td>2</td>\n",
       "      <td>CA. 2343</td>\n",
       "      <td>69.55</td>\n",
       "      <td>NaN</td>\n",
       "      <td>S</td>\n",
       "    </tr>\n",
       "    <tr>\n",
       "      <th>863</th>\n",
       "      <td>864</td>\n",
       "      <td>0</td>\n",
       "      <td>3</td>\n",
       "      <td>Sage, Miss. Dorothy Edith \"Dolly\"</td>\n",
       "      <td>female</td>\n",
       "      <td>NaN</td>\n",
       "      <td>8</td>\n",
       "      <td>2</td>\n",
       "      <td>CA. 2343</td>\n",
       "      <td>69.55</td>\n",
       "      <td>NaN</td>\n",
       "      <td>S</td>\n",
       "    </tr>\n",
       "  </tbody>\n",
       "</table>\n",
       "</div>"
      ],
      "text/plain": [
       "     PassengerId  Survived  Pclass                               Name     Sex  \\\n",
       "27            28         0       1     Fortune, Mr. Charles Alexander    male   \n",
       "88            89         1       1         Fortune, Miss. Mabel Helen  female   \n",
       "159          160         0       3         Sage, Master. Thomas Henry    male   \n",
       "180          181         0       3       Sage, Miss. Constance Gladys  female   \n",
       "201          202         0       3                Sage, Mr. Frederick    male   \n",
       "324          325         0       3           Sage, Mr. George John Jr    male   \n",
       "341          342         1       1     Fortune, Miss. Alice Elizabeth  female   \n",
       "792          793         0       3            Sage, Miss. Stella Anna  female   \n",
       "846          847         0       3           Sage, Mr. Douglas Bullen    male   \n",
       "863          864         0       3  Sage, Miss. Dorothy Edith \"Dolly\"  female   \n",
       "\n",
       "      Age  SibSp  Parch    Ticket    Fare        Cabin Embarked  \n",
       "27   19.0      3      2     19950  263.00  C23 C25 C27        S  \n",
       "88   23.0      3      2     19950  263.00  C23 C25 C27        S  \n",
       "159   NaN      8      2  CA. 2343   69.55          NaN        S  \n",
       "180   NaN      8      2  CA. 2343   69.55          NaN        S  \n",
       "201   NaN      8      2  CA. 2343   69.55          NaN        S  \n",
       "324   NaN      8      2  CA. 2343   69.55          NaN        S  \n",
       "341  24.0      3      2     19950  263.00  C23 C25 C27        S  \n",
       "792   NaN      8      2  CA. 2343   69.55          NaN        S  \n",
       "846   NaN      8      2  CA. 2343   69.55          NaN        S  \n",
       "863   NaN      8      2  CA. 2343   69.55          NaN        S  "
      ]
     },
     "execution_count": 16,
     "metadata": {},
     "output_type": "execute_result"
    }
   ],
   "source": [
    "train_df.loc[detect_outliers(train_df,[\"Age\",\"SibSp\",\"Parch\",\"Fare\"])]"
   ]
  },
  {
   "cell_type": "code",
   "execution_count": 17,
   "id": "d6b9369c",
   "metadata": {
    "execution": {
     "iopub.execute_input": "2022-09-13T20:24:38.675877Z",
     "iopub.status.busy": "2022-09-13T20:24:38.674915Z",
     "iopub.status.idle": "2022-09-13T20:24:38.684790Z",
     "shell.execute_reply": "2022-09-13T20:24:38.685338Z",
     "shell.execute_reply.started": "2022-09-13T20:23:32.773039Z"
    },
    "papermill": {
     "duration": 0.070802,
     "end_time": "2022-09-13T20:24:38.685522",
     "exception": false,
     "start_time": "2022-09-13T20:24:38.614720",
     "status": "completed"
    },
    "tags": []
   },
   "outputs": [],
   "source": [
    "train_df = train_df.drop(detect_outliers(train_df,[\"Age\",\"SibSp\",\"Parch\",\"Fare\"]),axis = 0).reset_index(drop = True)"
   ]
  },
  {
   "cell_type": "markdown",
   "id": "bc29f81e",
   "metadata": {
    "papermill": {
     "duration": 0.057944,
     "end_time": "2022-09-13T20:24:38.801549",
     "exception": false,
     "start_time": "2022-09-13T20:24:38.743605",
     "status": "completed"
    },
    "tags": []
   },
   "source": [
    "<a id=\"8\" ></a><br>\n",
    "# Missing Value\n",
    "  *  Find Missing Value\n",
    "  *  Fill Missing Value"
   ]
  },
  {
   "cell_type": "code",
   "execution_count": 18,
   "id": "c0edfd20",
   "metadata": {
    "execution": {
     "iopub.execute_input": "2022-09-13T20:24:38.921441Z",
     "iopub.status.busy": "2022-09-13T20:24:38.920468Z",
     "iopub.status.idle": "2022-09-13T20:24:38.928686Z",
     "shell.execute_reply": "2022-09-13T20:24:38.929233Z",
     "shell.execute_reply.started": "2022-09-13T20:23:32.787154Z"
    },
    "papermill": {
     "duration": 0.0694,
     "end_time": "2022-09-13T20:24:38.929433",
     "exception": false,
     "start_time": "2022-09-13T20:24:38.860033",
     "status": "completed"
    },
    "tags": []
   },
   "outputs": [],
   "source": [
    "train_df_len=len(train_df)\n",
    "train_df=pd.concat([train_df,test_df],axis=0).reset_index(drop=True)"
   ]
  },
  {
   "cell_type": "markdown",
   "id": "110bb8d0",
   "metadata": {
    "papermill": {
     "duration": 0.059855,
     "end_time": "2022-09-13T20:24:39.046542",
     "exception": false,
     "start_time": "2022-09-13T20:24:38.986687",
     "status": "completed"
    },
    "tags": []
   },
   "source": [
    "<a id=\"9\" ></a><br>\n",
    "\n",
    "### Find Missing Value\n"
   ]
  },
  {
   "cell_type": "code",
   "execution_count": 19,
   "id": "aca9db2a",
   "metadata": {
    "execution": {
     "iopub.execute_input": "2022-09-13T20:24:39.167776Z",
     "iopub.status.busy": "2022-09-13T20:24:39.166801Z",
     "iopub.status.idle": "2022-09-13T20:24:39.174499Z",
     "shell.execute_reply": "2022-09-13T20:24:39.174981Z",
     "shell.execute_reply.started": "2022-09-13T20:23:32.800770Z"
    },
    "papermill": {
     "duration": 0.070128,
     "end_time": "2022-09-13T20:24:39.175171",
     "exception": false,
     "start_time": "2022-09-13T20:24:39.105043",
     "status": "completed"
    },
    "tags": []
   },
   "outputs": [
    {
     "data": {
      "text/plain": [
       "Index(['Survived', 'Age', 'Fare', 'Cabin', 'Embarked'], dtype='object')"
      ]
     },
     "execution_count": 19,
     "metadata": {},
     "output_type": "execute_result"
    }
   ],
   "source": [
    "train_df.columns[train_df.isnull().any()]"
   ]
  },
  {
   "cell_type": "code",
   "execution_count": 20,
   "id": "69fde953",
   "metadata": {
    "execution": {
     "iopub.execute_input": "2022-09-13T20:24:39.303292Z",
     "iopub.status.busy": "2022-09-13T20:24:39.302559Z",
     "iopub.status.idle": "2022-09-13T20:24:39.305950Z",
     "shell.execute_reply": "2022-09-13T20:24:39.306549Z",
     "shell.execute_reply.started": "2022-09-13T20:23:32.812998Z"
    },
    "papermill": {
     "duration": 0.072298,
     "end_time": "2022-09-13T20:24:39.306730",
     "exception": false,
     "start_time": "2022-09-13T20:24:39.234432",
     "status": "completed"
    },
    "tags": []
   },
   "outputs": [
    {
     "data": {
      "text/plain": [
       "PassengerId       0\n",
       "Survived        418\n",
       "Pclass            0\n",
       "Name              0\n",
       "Sex               0\n",
       "Age             256\n",
       "SibSp             0\n",
       "Parch             0\n",
       "Ticket            0\n",
       "Fare              1\n",
       "Cabin          1007\n",
       "Embarked          2\n",
       "dtype: int64"
      ]
     },
     "execution_count": 20,
     "metadata": {},
     "output_type": "execute_result"
    }
   ],
   "source": [
    "train_df.isnull().sum()"
   ]
  },
  {
   "cell_type": "markdown",
   "id": "75d2d99d",
   "metadata": {
    "papermill": {
     "duration": 0.057708,
     "end_time": "2022-09-13T20:24:39.422428",
     "exception": false,
     "start_time": "2022-09-13T20:24:39.364720",
     "status": "completed"
    },
    "tags": []
   },
   "source": [
    "<a id=\"10\" ></a><br>\n",
    "\n",
    "### Fill Missing Value\n",
    "* Embarked has 2 missing value\n",
    "*     Fare has only one"
   ]
  },
  {
   "cell_type": "code",
   "execution_count": 21,
   "id": "400420c2",
   "metadata": {
    "execution": {
     "iopub.execute_input": "2022-09-13T20:24:39.546189Z",
     "iopub.status.busy": "2022-09-13T20:24:39.545445Z",
     "iopub.status.idle": "2022-09-13T20:24:39.559749Z",
     "shell.execute_reply": "2022-09-13T20:24:39.560350Z",
     "shell.execute_reply.started": "2022-09-13T20:23:32.834258Z"
    },
    "papermill": {
     "duration": 0.077506,
     "end_time": "2022-09-13T20:24:39.560527",
     "exception": false,
     "start_time": "2022-09-13T20:24:39.483021",
     "status": "completed"
    },
    "tags": []
   },
   "outputs": [
    {
     "data": {
      "text/html": [
       "<div>\n",
       "<style scoped>\n",
       "    .dataframe tbody tr th:only-of-type {\n",
       "        vertical-align: middle;\n",
       "    }\n",
       "\n",
       "    .dataframe tbody tr th {\n",
       "        vertical-align: top;\n",
       "    }\n",
       "\n",
       "    .dataframe thead th {\n",
       "        text-align: right;\n",
       "    }\n",
       "</style>\n",
       "<table border=\"1\" class=\"dataframe\">\n",
       "  <thead>\n",
       "    <tr style=\"text-align: right;\">\n",
       "      <th></th>\n",
       "      <th>PassengerId</th>\n",
       "      <th>Survived</th>\n",
       "      <th>Pclass</th>\n",
       "      <th>Name</th>\n",
       "      <th>Sex</th>\n",
       "      <th>Age</th>\n",
       "      <th>SibSp</th>\n",
       "      <th>Parch</th>\n",
       "      <th>Ticket</th>\n",
       "      <th>Fare</th>\n",
       "      <th>Cabin</th>\n",
       "      <th>Embarked</th>\n",
       "    </tr>\n",
       "  </thead>\n",
       "  <tbody>\n",
       "    <tr>\n",
       "      <th>60</th>\n",
       "      <td>62</td>\n",
       "      <td>1.0</td>\n",
       "      <td>1</td>\n",
       "      <td>Icard, Miss. Amelie</td>\n",
       "      <td>female</td>\n",
       "      <td>38.0</td>\n",
       "      <td>0</td>\n",
       "      <td>0</td>\n",
       "      <td>113572</td>\n",
       "      <td>80.0</td>\n",
       "      <td>B28</td>\n",
       "      <td>NaN</td>\n",
       "    </tr>\n",
       "    <tr>\n",
       "      <th>821</th>\n",
       "      <td>830</td>\n",
       "      <td>1.0</td>\n",
       "      <td>1</td>\n",
       "      <td>Stone, Mrs. George Nelson (Martha Evelyn)</td>\n",
       "      <td>female</td>\n",
       "      <td>62.0</td>\n",
       "      <td>0</td>\n",
       "      <td>0</td>\n",
       "      <td>113572</td>\n",
       "      <td>80.0</td>\n",
       "      <td>B28</td>\n",
       "      <td>NaN</td>\n",
       "    </tr>\n",
       "  </tbody>\n",
       "</table>\n",
       "</div>"
      ],
      "text/plain": [
       "     PassengerId  Survived  Pclass                                       Name  \\\n",
       "60            62       1.0       1                        Icard, Miss. Amelie   \n",
       "821          830       1.0       1  Stone, Mrs. George Nelson (Martha Evelyn)   \n",
       "\n",
       "        Sex   Age  SibSp  Parch  Ticket  Fare Cabin Embarked  \n",
       "60   female  38.0      0      0  113572  80.0   B28      NaN  \n",
       "821  female  62.0      0      0  113572  80.0   B28      NaN  "
      ]
     },
     "execution_count": 21,
     "metadata": {},
     "output_type": "execute_result"
    }
   ],
   "source": [
    "train_df[train_df[\"Embarked\"].isnull()]"
   ]
  },
  {
   "cell_type": "code",
   "execution_count": 22,
   "id": "645c9021",
   "metadata": {
    "execution": {
     "iopub.execute_input": "2022-09-13T20:24:39.683147Z",
     "iopub.status.busy": "2022-09-13T20:24:39.682306Z",
     "iopub.status.idle": "2022-09-13T20:24:39.906581Z",
     "shell.execute_reply": "2022-09-13T20:24:39.905943Z",
     "shell.execute_reply.started": "2022-09-13T20:23:32.858502Z"
    },
    "papermill": {
     "duration": 0.287591,
     "end_time": "2022-09-13T20:24:39.906745",
     "exception": false,
     "start_time": "2022-09-13T20:24:39.619154",
     "status": "completed"
    },
    "tags": []
   },
   "outputs": [
    {
     "data": {
      "image/png": "[encoded data removed]",
      "text/plain": [
       "<Figure size 432x288 with 1 Axes>"
      ]
     },
     "metadata": {},
     "output_type": "display_data"
    }
   ],
   "source": [
    "train_df.boxplot(column=\"Fare\",by=\"Embarked\")\n",
    "plt.show()"
   ]
  },
  {
   "cell_type": "code",
   "execution_count": 23,
   "id": "726b1ebf",
   "metadata": {
    "execution": {
     "iopub.execute_input": "2022-09-13T20:24:40.033824Z",
     "iopub.status.busy": "2022-09-13T20:24:40.033137Z",
     "iopub.status.idle": "2022-09-13T20:24:40.043975Z",
     "shell.execute_reply": "2022-09-13T20:24:40.044589Z",
     "shell.execute_reply.started": "2022-09-13T20:23:33.098603Z"
    },
    "papermill": {
     "duration": 0.077122,
     "end_time": "2022-09-13T20:24:40.044767",
     "exception": false,
     "start_time": "2022-09-13T20:24:39.967645",
     "status": "completed"
    },
    "tags": []
   },
   "outputs": [
    {
     "data": {
      "text/html": [
       "<div>\n",
       "<style scoped>\n",
       "    .dataframe tbody tr th:only-of-type {\n",
       "        vertical-align: middle;\n",
       "    }\n",
       "\n",
       "    .dataframe tbody tr th {\n",
       "        vertical-align: top;\n",
       "    }\n",
       "\n",
       "    .dataframe thead th {\n",
       "        text-align: right;\n",
       "    }\n",
       "</style>\n",
       "<table border=\"1\" class=\"dataframe\">\n",
       "  <thead>\n",
       "    <tr style=\"text-align: right;\">\n",
       "      <th></th>\n",
       "      <th>PassengerId</th>\n",
       "      <th>Survived</th>\n",
       "      <th>Pclass</th>\n",
       "      <th>Name</th>\n",
       "      <th>Sex</th>\n",
       "      <th>Age</th>\n",
       "      <th>SibSp</th>\n",
       "      <th>Parch</th>\n",
       "      <th>Ticket</th>\n",
       "      <th>Fare</th>\n",
       "      <th>Cabin</th>\n",
       "      <th>Embarked</th>\n",
       "    </tr>\n",
       "  </thead>\n",
       "  <tbody>\n",
       "  </tbody>\n",
       "</table>\n",
       "</div>"
      ],
      "text/plain": [
       "Empty DataFrame\n",
       "Columns: [PassengerId, Survived, Pclass, Name, Sex, Age, SibSp, Parch, Ticket, Fare, Cabin, Embarked]\n",
       "Index: []"
      ]
     },
     "execution_count": 23,
     "metadata": {},
     "output_type": "execute_result"
    }
   ],
   "source": [
    "train_df[\"Embarked\"]=train_df[\"Embarked\"].fillna(\"C\")\n",
    "train_df[train_df[\"Embarked\"].isnull()]"
   ]
  },
  {
   "cell_type": "code",
   "execution_count": 24,
   "id": "36ba39de",
   "metadata": {
    "execution": {
     "iopub.execute_input": "2022-09-13T20:24:40.170163Z",
     "iopub.status.busy": "2022-09-13T20:24:40.169184Z",
     "iopub.status.idle": "2022-09-13T20:24:40.184583Z",
     "shell.execute_reply": "2022-09-13T20:24:40.184011Z",
     "shell.execute_reply.started": "2022-09-13T20:23:33.113419Z"
    },
    "papermill": {
     "duration": 0.079707,
     "end_time": "2022-09-13T20:24:40.184733",
     "exception": false,
     "start_time": "2022-09-13T20:24:40.105026",
     "status": "completed"
    },
    "tags": []
   },
   "outputs": [
    {
     "data": {
      "text/html": [
       "<div>\n",
       "<style scoped>\n",
       "    .dataframe tbody tr th:only-of-type {\n",
       "        vertical-align: middle;\n",
       "    }\n",
       "\n",
       "    .dataframe tbody tr th {\n",
       "        vertical-align: top;\n",
       "    }\n",
       "\n",
       "    .dataframe thead th {\n",
       "        text-align: right;\n",
       "    }\n",
       "</style>\n",
       "<table border=\"1\" class=\"dataframe\">\n",
       "  <thead>\n",
       "    <tr style=\"text-align: right;\">\n",
       "      <th></th>\n",
       "      <th>PassengerId</th>\n",
       "      <th>Survived</th>\n",
       "      <th>Pclass</th>\n",
       "      <th>Name</th>\n",
       "      <th>Sex</th>\n",
       "      <th>Age</th>\n",
       "      <th>SibSp</th>\n",
       "      <th>Parch</th>\n",
       "      <th>Ticket</th>\n",
       "      <th>Fare</th>\n",
       "      <th>Cabin</th>\n",
       "      <th>Embarked</th>\n",
       "    </tr>\n",
       "  </thead>\n",
       "  <tbody>\n",
       "    <tr>\n",
       "      <th>1033</th>\n",
       "      <td>1044</td>\n",
       "      <td>NaN</td>\n",
       "      <td>3</td>\n",
       "      <td>Storey, Mr. Thomas</td>\n",
       "      <td>male</td>\n",
       "      <td>60.5</td>\n",
       "      <td>0</td>\n",
       "      <td>0</td>\n",
       "      <td>3701</td>\n",
       "      <td>NaN</td>\n",
       "      <td>NaN</td>\n",
       "      <td>S</td>\n",
       "    </tr>\n",
       "  </tbody>\n",
       "</table>\n",
       "</div>"
      ],
      "text/plain": [
       "      PassengerId  Survived  Pclass                Name   Sex   Age  SibSp  \\\n",
       "1033         1044       NaN       3  Storey, Mr. Thomas  male  60.5      0   \n",
       "\n",
       "      Parch Ticket  Fare Cabin Embarked  \n",
       "1033      0   3701   NaN   NaN        S  "
      ]
     },
     "execution_count": 24,
     "metadata": {},
     "output_type": "execute_result"
    }
   ],
   "source": [
    "train_df[train_df[\"Fare\"].isnull()]"
   ]
  },
  {
   "cell_type": "code",
   "execution_count": 25,
   "id": "126fdf46",
   "metadata": {
    "execution": {
     "iopub.execute_input": "2022-09-13T20:24:40.313556Z",
     "iopub.status.busy": "2022-09-13T20:24:40.312894Z",
     "iopub.status.idle": "2022-09-13T20:24:40.315566Z",
     "shell.execute_reply": "2022-09-13T20:24:40.316197Z",
     "shell.execute_reply.started": "2022-09-13T20:23:33.138040Z"
    },
    "papermill": {
     "duration": 0.070239,
     "end_time": "2022-09-13T20:24:40.316420",
     "exception": false,
     "start_time": "2022-09-13T20:24:40.246181",
     "status": "completed"
    },
    "tags": []
   },
   "outputs": [],
   "source": [
    "train_df[\"Pclass\"]=train_df[\"Pclass\"].fillna(np.mean(train_df[train_df[\"Pclass\"]==3][\"Fare\"]))"
   ]
  },
  {
   "cell_type": "code",
   "execution_count": 26,
   "id": "e4603236",
   "metadata": {
    "execution": {
     "iopub.execute_input": "2022-09-13T20:24:40.441906Z",
     "iopub.status.busy": "2022-09-13T20:24:40.441237Z",
     "iopub.status.idle": "2022-09-13T20:24:40.450444Z",
     "shell.execute_reply": "2022-09-13T20:24:40.451096Z",
     "shell.execute_reply.started": "2022-09-13T20:23:33.159396Z"
    },
    "papermill": {
     "duration": 0.07351,
     "end_time": "2022-09-13T20:24:40.451290",
     "exception": false,
     "start_time": "2022-09-13T20:24:40.377780",
     "status": "completed"
    },
    "tags": []
   },
   "outputs": [
    {
     "data": {
      "text/html": [
       "<div>\n",
       "<style scoped>\n",
       "    .dataframe tbody tr th:only-of-type {\n",
       "        vertical-align: middle;\n",
       "    }\n",
       "\n",
       "    .dataframe tbody tr th {\n",
       "        vertical-align: top;\n",
       "    }\n",
       "\n",
       "    .dataframe thead th {\n",
       "        text-align: right;\n",
       "    }\n",
       "</style>\n",
       "<table border=\"1\" class=\"dataframe\">\n",
       "  <thead>\n",
       "    <tr style=\"text-align: right;\">\n",
       "      <th></th>\n",
       "      <th>PassengerId</th>\n",
       "      <th>Survived</th>\n",
       "      <th>Pclass</th>\n",
       "      <th>Name</th>\n",
       "      <th>Sex</th>\n",
       "      <th>Age</th>\n",
       "      <th>SibSp</th>\n",
       "      <th>Parch</th>\n",
       "      <th>Ticket</th>\n",
       "      <th>Fare</th>\n",
       "      <th>Cabin</th>\n",
       "      <th>Embarked</th>\n",
       "    </tr>\n",
       "  </thead>\n",
       "  <tbody>\n",
       "  </tbody>\n",
       "</table>\n",
       "</div>"
      ],
      "text/plain": [
       "Empty DataFrame\n",
       "Columns: [PassengerId, Survived, Pclass, Name, Sex, Age, SibSp, Parch, Ticket, Fare, Cabin, Embarked]\n",
       "Index: []"
      ]
     },
     "execution_count": 26,
     "metadata": {},
     "output_type": "execute_result"
    }
   ],
   "source": [
    "train_df[train_df[\"Pclass\"].isnull()]"
   ]
  },
  {
   "cell_type": "markdown",
   "id": "ea72c742",
   "metadata": {
    "papermill": {
     "duration": 0.060945,
     "end_time": "2022-09-13T20:24:40.573627",
     "exception": false,
     "start_time": "2022-09-13T20:24:40.512682",
     "status": "completed"
    },
    "tags": []
   },
   "source": [
    "<a id=\"11\" ></a><br>\n",
    "# Visualization"
   ]
  },
  {
   "cell_type": "markdown",
   "id": "f9fe5b9e",
   "metadata": {
    "papermill": {
     "duration": 0.060972,
     "end_time": "2022-09-13T20:24:40.696402",
     "exception": false,
     "start_time": "2022-09-13T20:24:40.635430",
     "status": "completed"
    },
    "tags": []
   },
   "source": [
    "<a id=\"12\" ></a><br>\n",
    "## Correlation Between SibSp-Parch-Fare-Age-Survived"
   ]
  },
  {
   "cell_type": "code",
   "execution_count": 27,
   "id": "5c2fd1fc",
   "metadata": {
    "execution": {
     "iopub.execute_input": "2022-09-13T20:24:40.827995Z",
     "iopub.status.busy": "2022-09-13T20:24:40.827278Z",
     "iopub.status.idle": "2022-09-13T20:24:41.126589Z",
     "shell.execute_reply": "2022-09-13T20:24:41.125910Z",
     "shell.execute_reply.started": "2022-09-13T20:23:33.182954Z"
    },
    "papermill": {
     "duration": 0.36885,
     "end_time": "2022-09-13T20:24:41.126742",
     "exception": false,
     "start_time": "2022-09-13T20:24:40.757892",
     "status": "completed"
    },
    "tags": []
   },
   "outputs": [
    {
     "data": {
      "image/png": "[encoded data removed]",
      "text/plain": [
       "<Figure size 432x288 with 2 Axes>"
      ]
     },
     "metadata": {},
     "output_type": "display_data"
    }
   ],
   "source": [
    "sns.heatmap(train_df[['SibSp','Parch','Fare','Age','Survived']].corr(),annot=True,fmt='.2f')\n",
    "plt.show()"
   ]
  },
  {
   "cell_type": "markdown",
   "id": "6cb6a286",
   "metadata": {
    "papermill": {
     "duration": 0.062542,
     "end_time": "2022-09-13T20:24:41.253791",
     "exception": false,
     "start_time": "2022-09-13T20:24:41.191249",
     "status": "completed"
    },
    "tags": []
   },
   "source": [
    "<a id=\"13\" ></a><br>\n",
    "## SibSp - Survived"
   ]
  },
  {
   "cell_type": "code",
   "execution_count": 28,
   "id": "04b82905",
   "metadata": {
    "execution": {
     "iopub.execute_input": "2022-09-13T20:24:41.382605Z",
     "iopub.status.busy": "2022-09-13T20:24:41.381964Z",
     "iopub.status.idle": "2022-09-13T20:24:41.975667Z",
     "shell.execute_reply": "2022-09-13T20:24:41.976140Z",
     "shell.execute_reply.started": "2022-09-13T20:23:33.499496Z"
    },
    "papermill": {
     "duration": 0.659848,
     "end_time": "2022-09-13T20:24:41.976324",
     "exception": false,
     "start_time": "2022-09-13T20:24:41.316476",
     "status": "completed"
    },
    "tags": []
   },
   "outputs": [
    {
     "data": {
      "image/png": "[encoded data removed]",
      "text/plain": [
       "<Figure size 504x504 with 1 Axes>"
      ]
     },
     "metadata": {},
     "output_type": "display_data"
    }
   ],
   "source": [
    "g=sns.factorplot(x='SibSp',y='Survived',data=train_df,kind='bar',size=7)\n",
    "g.set_ylabels('Survived Probability')\n",
    "plt.show()"
   ]
  },
  {
   "cell_type": "markdown",
   "id": "db46c467",
   "metadata": {
    "papermill": {
     "duration": 0.063145,
     "end_time": "2022-09-13T20:24:42.107756",
     "exception": false,
     "start_time": "2022-09-13T20:24:42.044611",
     "status": "completed"
    },
    "tags": []
   },
   "source": [
    "<a id=\"14\" ></a><br>\n",
    "## Parch - Survived"
   ]
  },
  {
   "cell_type": "code",
   "execution_count": 29,
   "id": "4e0cca3d",
   "metadata": {
    "execution": {
     "iopub.execute_input": "2022-09-13T20:24:42.242110Z",
     "iopub.status.busy": "2022-09-13T20:24:42.241401Z",
     "iopub.status.idle": "2022-09-13T20:24:42.694244Z",
     "shell.execute_reply": "2022-09-13T20:24:42.694712Z",
     "shell.execute_reply.started": "2022-09-13T20:23:34.117210Z"
    },
    "papermill": {
     "duration": 0.523466,
     "end_time": "2022-09-13T20:24:42.694935",
     "exception": false,
     "start_time": "2022-09-13T20:24:42.171469",
     "status": "completed"
    },
    "tags": []
   },
   "outputs": [
    {
     "data": {
      "image/png": "[encoded data removed]",
      "text/plain": [
       "<Figure size 504x504 with 1 Axes>"
      ]
     },
     "metadata": {},
     "output_type": "display_data"
    }
   ],
   "source": [
    "g=sns.factorplot(x='Parch',y='Survived',data=train_df,kind='bar',size=7)\n",
    "g.set_ylabels('Survived Probability')\n",
    "plt.show()"
   ]
  },
  {
   "cell_type": "markdown",
   "id": "054a8ffb",
   "metadata": {
    "papermill": {
     "duration": 0.065427,
     "end_time": "2022-09-13T20:24:42.824450",
     "exception": false,
     "start_time": "2022-09-13T20:24:42.759023",
     "status": "completed"
    },
    "tags": []
   },
   "source": [
    "<a id=\"15\" ></a><br>\n",
    "## Pclass - Survived"
   ]
  },
  {
   "cell_type": "code",
   "execution_count": 30,
   "id": "aa3b2b2b",
   "metadata": {
    "execution": {
     "iopub.execute_input": "2022-09-13T20:24:42.957021Z",
     "iopub.status.busy": "2022-09-13T20:24:42.955989Z",
     "iopub.status.idle": "2022-09-13T20:24:43.322559Z",
     "shell.execute_reply": "2022-09-13T20:24:43.323085Z",
     "shell.execute_reply.started": "2022-09-13T20:23:34.589729Z"
    },
    "papermill": {
     "duration": 0.434411,
     "end_time": "2022-09-13T20:24:43.323278",
     "exception": false,
     "start_time": "2022-09-13T20:24:42.888867",
     "status": "completed"
    },
    "tags": []
   },
   "outputs": [
    {
     "data": {
      "image/png": "[encoded data removed]",
      "text/plain": [
       "<Figure size 504x504 with 1 Axes>"
      ]
     },
     "metadata": {},
     "output_type": "display_data"
    }
   ],
   "source": [
    "g=sns.factorplot(x='Pclass',y='Survived',data=train_df,kind='bar',size=7)\n",
    "g.set_ylabels('Survived Probability')\n",
    "plt.show()"
   ]
  },
  {
   "cell_type": "markdown",
   "id": "35dc5d22",
   "metadata": {
    "papermill": {
     "duration": 0.068982,
     "end_time": "2022-09-13T20:24:43.457959",
     "exception": false,
     "start_time": "2022-09-13T20:24:43.388977",
     "status": "completed"
    },
    "tags": []
   },
   "source": [
    "<a id=\"16\" ></a><br>\n",
    "## Age - Survived"
   ]
  },
  {
   "cell_type": "code",
   "execution_count": 31,
   "id": "fe47dbff",
   "metadata": {
    "execution": {
     "iopub.execute_input": "2022-09-13T20:24:43.595744Z",
     "iopub.status.busy": "2022-09-13T20:24:43.592167Z",
     "iopub.status.idle": "2022-09-13T20:24:44.099047Z",
     "shell.execute_reply": "2022-09-13T20:24:44.098449Z",
     "shell.execute_reply.started": "2022-09-13T20:23:34.969495Z"
    },
    "papermill": {
     "duration": 0.575427,
     "end_time": "2022-09-13T20:24:44.099199",
     "exception": false,
     "start_time": "2022-09-13T20:24:43.523772",
     "status": "completed"
    },
    "tags": []
   },
   "outputs": [
    {
     "data": {
      "image/png": "[encoded data removed]",
      "text/plain": [
       "<Figure size 432x216 with 2 Axes>"
      ]
     },
     "metadata": {},
     "output_type": "display_data"
    }
   ],
   "source": [
    "g=sns.FacetGrid(train_df,col='Survived')\n",
    "g.map(sns.distplot,'Age',bins=25)\n",
    "plt.show()"
   ]
  },
  {
   "cell_type": "markdown",
   "id": "5d0ee0af",
   "metadata": {
    "papermill": {
     "duration": 0.066707,
     "end_time": "2022-09-13T20:24:44.232537",
     "exception": false,
     "start_time": "2022-09-13T20:24:44.165830",
     "status": "completed"
    },
    "tags": []
   },
   "source": [
    "<a id=\"17\" ></a><br>\n",
    "## Pclass - Survived - Age"
   ]
  },
  {
   "cell_type": "code",
   "execution_count": 32,
   "id": "b74c5782",
   "metadata": {
    "execution": {
     "iopub.execute_input": "2022-09-13T20:24:44.370081Z",
     "iopub.status.busy": "2022-09-13T20:24:44.369348Z",
     "iopub.status.idle": "2022-09-13T20:24:46.222760Z",
     "shell.execute_reply": "2022-09-13T20:24:46.223293Z",
     "shell.execute_reply.started": "2022-09-13T20:23:35.489904Z"
    },
    "papermill": {
     "duration": 1.923385,
     "end_time": "2022-09-13T20:24:46.223508",
     "exception": false,
     "start_time": "2022-09-13T20:24:44.300123",
     "status": "completed"
    },
    "tags": []
   },
   "outputs": [
    {
     "data": {
      "image/png": "[encoded data removed]",
      "text/plain": [
       "<Figure size 728x1080 with 6 Axes>"
      ]
     },
     "metadata": {},
     "output_type": "display_data"
    }
   ],
   "source": [
    "g=sns.FacetGrid(train_df,col='Survived',row='Pclass',size=5)\n",
    "g.map(sns.histplot,'Age',bins=25)\n",
    "g.add_legend()\n",
    "plt.show()"
   ]
  },
  {
   "cell_type": "markdown",
   "id": "d20b40a4",
   "metadata": {
    "papermill": {
     "duration": 0.067302,
     "end_time": "2022-09-13T20:24:46.359878",
     "exception": false,
     "start_time": "2022-09-13T20:24:46.292576",
     "status": "completed"
    },
    "tags": []
   },
   "source": [
    "<a id=\"18\" ></a><br>\n",
    "## Embarked - Sex - Pclass - Survived"
   ]
  },
  {
   "cell_type": "code",
   "execution_count": 33,
   "id": "183a8a3c",
   "metadata": {
    "execution": {
     "iopub.execute_input": "2022-09-13T20:24:46.517733Z",
     "iopub.status.busy": "2022-09-13T20:24:46.517024Z",
     "iopub.status.idle": "2022-09-13T20:24:47.649799Z",
     "shell.execute_reply": "2022-09-13T20:24:47.650376Z",
     "shell.execute_reply.started": "2022-09-13T20:23:37.346173Z"
    },
    "papermill": {
     "duration": 1.223173,
     "end_time": "2022-09-13T20:24:47.650564",
     "exception": false,
     "start_time": "2022-09-13T20:24:46.427391",
     "status": "completed"
    },
    "tags": []
   },
   "outputs": [
    {
     "data": {
      "image/png": "[encoded data removed]",
      "text/plain": [
       "<Figure size 934.5x288 with 3 Axes>"
      ]
     },
     "metadata": {},
     "output_type": "display_data"
    }
   ],
   "source": [
    "g=sns.FacetGrid(train_df,col='Embarked',size=4)\n",
    "g.map(sns.pointplot,'Pclass','Survived','Sex')\n",
    "g.add_legend()\n",
    "plt.show()"
   ]
  },
  {
   "cell_type": "markdown",
   "id": "98f37a4c",
   "metadata": {
    "papermill": {
     "duration": 0.068843,
     "end_time": "2022-09-13T20:24:47.788541",
     "exception": false,
     "start_time": "2022-09-13T20:24:47.719698",
     "status": "completed"
    },
    "tags": []
   },
   "source": [
    "<a id=\"19\" ></a><br>\n",
    "## Embarked - Sex - Fare - Survived"
   ]
  },
  {
   "cell_type": "code",
   "execution_count": 34,
   "id": "dd77a44c",
   "metadata": {
    "execution": {
     "iopub.execute_input": "2022-09-13T20:24:47.932159Z",
     "iopub.status.busy": "2022-09-13T20:24:47.931513Z",
     "iopub.status.idle": "2022-09-13T20:24:49.397568Z",
     "shell.execute_reply": "2022-09-13T20:24:49.397010Z",
     "shell.execute_reply.started": "2022-09-13T20:23:38.544416Z"
    },
    "papermill": {
     "duration": 1.54032,
     "end_time": "2022-09-13T20:24:49.397723",
     "exception": false,
     "start_time": "2022-09-13T20:24:47.857403",
     "status": "completed"
    },
    "tags": []
   },
   "outputs": [
    {
     "data": {
      "image/png": "[encoded data removed]",
      "text/plain": [
       "<Figure size 584x864 with 6 Axes>"
      ]
     },
     "metadata": {},
     "output_type": "display_data"
    }
   ],
   "source": [
    "g=sns.FacetGrid(train_df,row='Embarked',col='Survived',size=4)\n",
    "g.map(sns.barplot,'Sex','Fare')\n",
    "g.add_legend()\n",
    "plt.show()"
   ]
  },
  {
   "cell_type": "markdown",
   "id": "f87ecf6d",
   "metadata": {
    "papermill": {
     "duration": 0.070744,
     "end_time": "2022-09-13T20:24:49.539964",
     "exception": false,
     "start_time": "2022-09-13T20:24:49.469220",
     "status": "completed"
    },
    "tags": []
   },
   "source": [
    "<a id=\"20\" ></a><br>\n",
    "## Fill Missing Value : Age Feature"
   ]
  },
  {
   "cell_type": "code",
   "execution_count": 35,
   "id": "7228089a",
   "metadata": {
    "execution": {
     "iopub.execute_input": "2022-09-13T20:24:49.684271Z",
     "iopub.status.busy": "2022-09-13T20:24:49.683509Z",
     "iopub.status.idle": "2022-09-13T20:24:50.130651Z",
     "shell.execute_reply": "2022-09-13T20:24:50.131334Z",
     "shell.execute_reply.started": "2022-09-13T20:23:40.040025Z"
    },
    "papermill": {
     "duration": 0.52098,
     "end_time": "2022-09-13T20:24:50.131523",
     "exception": false,
     "start_time": "2022-09-13T20:24:49.610543",
     "status": "completed"
    },
    "tags": []
   },
   "outputs": [
    {
     "data": {
      "image/png": "[encoded data removed]",
      "text/plain": [
       "<Figure size 546.375x504 with 1 Axes>"
      ]
     },
     "metadata": {},
     "output_type": "display_data"
    }
   ],
   "source": [
    "sns.factorplot(x='Sex',y='Age',hue='Pclass',data=train_df,kind='box',size=7)\n",
    "plt.show()"
   ]
  },
  {
   "cell_type": "code",
   "execution_count": 36,
   "id": "1bc47606",
   "metadata": {
    "execution": {
     "iopub.execute_input": "2022-09-13T20:24:50.283829Z",
     "iopub.status.busy": "2022-09-13T20:24:50.283158Z",
     "iopub.status.idle": "2022-09-13T20:24:51.051606Z",
     "shell.execute_reply": "2022-09-13T20:24:51.052160Z",
     "shell.execute_reply.started": "2022-09-13T20:23:40.495200Z"
    },
    "papermill": {
     "duration": 0.84489,
     "end_time": "2022-09-13T20:24:51.052347",
     "exception": false,
     "start_time": "2022-09-13T20:24:50.207457",
     "status": "completed"
    },
    "tags": []
   },
   "outputs": [
    {
     "data": {
      "image/png": "[encoded data removed]",
      "text/plain": [
       "<Figure size 504x504 with 1 Axes>"
      ]
     },
     "metadata": {},
     "output_type": "display_data"
    },
    {
     "data": {
      "image/png": "[encoded data removed]",
      "text/plain": [
       "<Figure size 504x504 with 1 Axes>"
      ]
     },
     "metadata": {},
     "output_type": "display_data"
    }
   ],
   "source": [
    "sns.factorplot(x='Parch',y='Age',data=train_df,kind='box',size=7)\n",
    "sns.factorplot(x='SibSp',y='Age',data=train_df,kind='box',size=7)\n",
    "plt.show()"
   ]
  }
 ],
 "metadata": {
  "kernelspec": {
   "display_name": "Python 3",
   "language": "python",
   "name": "python3"
  },
  "language_info": {
   "codemirror_mode": {
    "name": "ipython",
    "version": 3
   },
   "file_extension": ".py",
   "mimetype": "text/x-python",
   "name": "python",
   "nbconvert_exporter": "python",
   "pygments_lexer": "ipython3",
   "version": "3.7.12"
  },
  "papermill": {
   "default_parameters": {},
   "duration": 28.439561,
   "end_time": "2022-09-13T20:24:51.837925",
   "environment_variables": {},
   "exception": null,
   "input_path": "__notebook__.ipynb",
   "output_path": "__notebook__.ipynb",
   "parameters": {},
   "start_time": "2022-09-13T20:24:23.398364",
   "version": "2.3.3"
  }
 },
 "nbformat": 4,
 "nbformat_minor": 5
}
